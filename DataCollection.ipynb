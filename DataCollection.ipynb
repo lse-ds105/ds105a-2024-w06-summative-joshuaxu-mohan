{
 "cells": [
  {
   "cell_type": "markdown",
   "metadata": {},
   "source": [
    "**OBJECTIVE:** Collect weather data from the OpenMeteo API and save to a JSON file.\n",
    "\n",
    "**AUTHOR:** Joshua Xu\n",
    "\n",
    "**LAST EDITED:** 2024-10-24\n",
    "\n",
    "---\n"
   ]
  },
  {
   "cell_type": "markdown",
   "metadata": {},
   "source": [
    "# 1. Data Collection\n",
    "In this notebook, I will focus on using [Open-Meteo API](https://open-meteo.com/en/docs) to extract weather from London and cities we are comparing it against.\n",
    "\n",
    "URL of [Historical Weather Data](https://open-meteo.com/en/docs/historical-weather-api): `https://archive-api.open-meteo.com/v1/archive`"
   ]
  },
  {
   "cell_type": "markdown",
   "metadata": {},
   "source": [
    "We first import the necessary modules:"
   ]
  },
  {
   "cell_type": "code",
   "execution_count": 2,
   "metadata": {},
   "outputs": [],
   "source": [
    "import json \n",
    "import requests"
   ]
  },
  {
   "cell_type": "markdown",
   "metadata": {},
   "source": [
    "We need to define a function which returns historical data:"
   ]
  },
  {
   "cell_type": "code",
   "execution_count": 7,
   "metadata": {},
   "outputs": [],
   "source": [
    "# The function will take inputs of latitude, longitude to return weather data\n",
    "def get_historical_data(latitude, longitude):\n",
    "\n",
    "# Defining parameters \n",
    "    base_historic_url =  \"https://archive-api.open-meteo.com/v1/era5?\"\n",
    "    params_lat_long = \"latitude=\" + str(latitude) + \"&longitude=\"  + str(longitude)\n",
    "    params_date = \"&start_date=2023-01-01&end_date=2024-01-01\"\n",
    "\n",
    "# Defining parameters measuring 'raininess'\n",
    "    params_others = \"&hourly=&daily=precipitation_sum,rain_sum,showers_sum\"\n",
    "\n",
    "# Define variable combining parameters \n",
    "    final_url = base_historic_url + params_lat_long + params_date + params_others\n",
    "\n",
    "# Define variable for retrieved data from constructed url\n",
    "    response = requests.get(final_url)\n",
    "\n",
    "# Convert data to json file\n",
    "    historical_data = response.json()\n",
    "\n",
    "# Filter data\n",
    "    historical_raininess = historical_data['daily']['precipitation_sum']\n",
    "\n",
    "# Return data\n",
    "    return historical_raininess"
   ]
  },
  {
   "cell_type": "markdown",
   "metadata": {},
   "source": [
    "To obtain London's historical data:"
   ]
  },
  {
   "cell_type": "code",
   "execution_count": 10,
   "metadata": {},
   "outputs": [],
   "source": [
    "london_raininess = get_historical_data('51.5085', '-0.1257')"
   ]
  },
  {
   "cell_type": "markdown",
   "metadata": {},
   "source": [
    "However, it is tedious to search for the coordinates of cities to input.\n",
    "\n",
    "We can automate the process with the following code to obtain the coordinates after inputting cities and country codes."
   ]
  },
  {
   "cell_type": "code",
   "execution_count": null,
   "metadata": {},
   "outputs": [],
   "source": [
    "# Accessing text file of world cities and coordinates\n",
    "def get_lat_long(country_code, city_name)\n",
    "    with open('../data/world_cities.txt') as file:\n",
    "\n",
    "    # Splitting data via line breaks\n",
    "            lines = file.read().split('\\n')\n",
    "        \n",
    "    # Splitting data into elements to be sorted into lists of a dictionary  \n",
    "        dict_list = []\n",
    "\n",
    "        for line in lines:\n",
    "            line_elements = line.split(',')\n",
    "            current_dictionary = {\n",
    "            'cities_name': line_elements[1],\n",
    "            'country_code': line_elements[0],\n",
    "            'latitude': line_elements[2],\n",
    "            'longitude': line_elements[3]\n",
    "            }\n",
    "            dict_list.append(current_dictionary)\n",
    "\n",
    "    # Filtering dictionaries to look for coordinates of inputted latitude and longitude\n",
    "        for dict in dict_list:\n",
    "            if dict['cities_name'] == str(city_name) and dict['country_code'] == str(country_code):\n",
    "                print(f\"{dict['latitude']}, {dict['longitude']}\")"
   ]
  }
 ],
 "metadata": {
  "kernelspec": {
   "display_name": "base",
   "language": "python",
   "name": "python3"
  },
  "language_info": {
   "codemirror_mode": {
    "name": "ipython",
    "version": 3
   },
   "file_extension": ".py",
   "mimetype": "text/x-python",
   "name": "python",
   "nbconvert_exporter": "python",
   "pygments_lexer": "ipython3",
   "version": "3.11.8"
  }
 },
 "nbformat": 4,
 "nbformat_minor": 2
}
