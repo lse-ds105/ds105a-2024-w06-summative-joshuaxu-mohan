{
 "cells": [
  {
   "cell_type": "markdown",
   "metadata": {},
   "source": [
    "**OBJECTIVE:** Analyse collected data of London and other cities\n",
    "\n",
    "**AUTHOR:** Joshua Xu\n",
    "\n",
    "**LAST EDITED:** 2024-10-26\n",
    "\n",
    "---\n"
   ]
  },
  {
   "cell_type": "markdown",
   "metadata": {},
   "source": [
    "# Data Analysis"
   ]
  },
  {
   "cell_type": "markdown",
   "metadata": {},
   "source": [
    "In this notebook, I will be using the data I have collected to conduct some exploratory data anlaysis, primarily using the panda module."
   ]
  },
  {
   "cell_type": "code",
   "execution_count": 27,
   "metadata": {},
   "outputs": [
    {
     "data": {
      "text/html": [
       "\n",
       "            <div id=\"vCy7TW\"></div>\n",
       "            <script type=\"text/javascript\" data-lets-plot-script=\"library\">\n",
       "                if(!window.letsPlotCallQueue) {\n",
       "                    window.letsPlotCallQueue = [];\n",
       "                }; \n",
       "                window.letsPlotCall = function(f) {\n",
       "                    window.letsPlotCallQueue.push(f);\n",
       "                };\n",
       "                (function() {\n",
       "                    var script = document.createElement(\"script\");\n",
       "                    script.type = \"text/javascript\";\n",
       "                    script.src = \"https://cdn.jsdelivr.net/gh/JetBrains/lets-plot@v4.5.1/js-package/distr/lets-plot.min.js\";\n",
       "                    script.onload = function() {\n",
       "                        window.letsPlotCall = function(f) {f();};\n",
       "                        window.letsPlotCallQueue.forEach(function(f) {f();});\n",
       "                        window.letsPlotCallQueue = [];\n",
       "                        \n",
       "                    };\n",
       "                    script.onerror = function(event) {\n",
       "                        window.letsPlotCall = function(f) {};    // noop\n",
       "                        window.letsPlotCallQueue = [];\n",
       "                        var div = document.createElement(\"div\");\n",
       "                        div.style.color = 'darkred';\n",
       "                        div.textContent = 'Error loading Lets-Plot JS';\n",
       "                        document.getElementById(\"vCy7TW\").appendChild(div);\n",
       "                    };\n",
       "                    var e = document.getElementById(\"vCy7TW\");\n",
       "                    e.appendChild(script);\n",
       "                })()\n",
       "            </script>\n",
       "            "
      ]
     },
     "metadata": {},
     "output_type": "display_data"
    }
   ],
   "source": [
    "import json\n",
    "import requests\n",
    "import pandas as pd\n",
    "import numpy as np\n",
    "from lets_plot import *\n",
    "LetsPlot.setup_html()"
   ]
  },
  {
   "cell_type": "markdown",
   "metadata": {},
   "source": [
    "## 1. Preparation"
   ]
  },
  {
   "cell_type": "markdown",
   "metadata": {},
   "source": [
    "We begin by converting our data in a data frame to have a better understanding of our given data:"
   ]
  },
  {
   "cell_type": "code",
   "execution_count": 28,
   "metadata": {},
   "outputs": [
    {
     "data": {
      "text/html": [
       "<div>\n",
       "<style scoped>\n",
       "    .dataframe tbody tr th:only-of-type {\n",
       "        vertical-align: middle;\n",
       "    }\n",
       "\n",
       "    .dataframe tbody tr th {\n",
       "        vertical-align: top;\n",
       "    }\n",
       "\n",
       "    .dataframe thead th {\n",
       "        text-align: right;\n",
       "    }\n",
       "</style>\n",
       "<table border=\"1\" class=\"dataframe\">\n",
       "  <thead>\n",
       "    <tr style=\"text-align: right;\">\n",
       "      <th></th>\n",
       "      <th>London</th>\n",
       "      <th>Porto Novo</th>\n",
       "      <th>Kigali</th>\n",
       "      <th>Apia</th>\n",
       "      <th>Tiraspol</th>\n",
       "      <th>Dublin</th>\n",
       "      <th>Ljubljana</th>\n",
       "      <th>Kuwait City</th>\n",
       "      <th>Bangkok</th>\n",
       "      <th>Santo Domingo</th>\n",
       "      <th>Brasiléia</th>\n",
       "    </tr>\n",
       "  </thead>\n",
       "  <tbody>\n",
       "    <tr>\n",
       "      <th>Date</th>\n",
       "      <td>[2023-01-01, 2023-01-02, 2023-01-03, 2023-01-0...</td>\n",
       "      <td>[2023-01-01, 2023-01-02, 2023-01-03, 2023-01-0...</td>\n",
       "      <td>[2023-01-01, 2023-01-02, 2023-01-03, 2023-01-0...</td>\n",
       "      <td>[2023-01-01, 2023-01-02, 2023-01-03, 2023-01-0...</td>\n",
       "      <td>[2023-01-01, 2023-01-02, 2023-01-03, 2023-01-0...</td>\n",
       "      <td>[2023-01-01, 2023-01-02, 2023-01-03, 2023-01-0...</td>\n",
       "      <td>[2023-01-01, 2023-01-02, 2023-01-03, 2023-01-0...</td>\n",
       "      <td>[2023-01-01, 2023-01-02, 2023-01-03, 2023-01-0...</td>\n",
       "      <td>[2023-01-01, 2023-01-02, 2023-01-03, 2023-01-0...</td>\n",
       "      <td>[2023-01-01, 2023-01-02, 2023-01-03, 2023-01-0...</td>\n",
       "      <td>[2023-01-01, 2023-01-02, 2023-01-03, 2023-01-0...</td>\n",
       "    </tr>\n",
       "    <tr>\n",
       "      <th>Weather code</th>\n",
       "      <td>[53, 51, 53, 51, 51, 53, 55, 53, 51, 61, 61, 5...</td>\n",
       "      <td>[2, 2, 1, 3, 3, 3, 1, 1, 1, 1, 2, 3, 2, 1, 1, ...</td>\n",
       "      <td>[2, 2, 51, 51, 61, 2, 51, 3, 51, 63, 63, 63, 5...</td>\n",
       "      <td>[53, 61, 63, 63, 65, 65, 63, 63, 63, 55, 2, 61...</td>\n",
       "      <td>[1, 0, 3, 3, 51, 51, 71, 71, 51, 51, 3, 71, 3,...</td>\n",
       "      <td>[53, 3, 63, 51, 61, 53, 53, 55, 3, 63, 73, 53,...</td>\n",
       "      <td>[3, 3, 51, 51, 3, 3, 3, 55, 63, 51, 3, 51, 61,...</td>\n",
       "      <td>[1, 3, 3, 61, 3, 0, 0, 2, 63, 51, 0, 0, 53, 61...</td>\n",
       "      <td>[1, 2, 3, 3, 1, 3, 3, 3, 3, 63, 51, 51, 51, 51...</td>\n",
       "      <td>[51, 53, 51, 51, 63, 63, 65, 63, 63, 63, 61, 5...</td>\n",
       "      <td>[63, 51, 51, 63, 63, 51, 3, 51, 61, 63, 63, 61...</td>\n",
       "    </tr>\n",
       "    <tr>\n",
       "      <th>Precipitation sum</th>\n",
       "      <td>[4.0, 0.2, 3.2, 0.9, 0.1, 1.2, 5.0, 1.8, 0.3, ...</td>\n",
       "      <td>[0.0, 0.0, 0.0, 0.0, 0.0, 0.0, 0.0, 0.0, 0.0, ...</td>\n",
       "      <td>[0.0, 0.0, 0.1, 1.5, 2.7, 0.0, 0.1, 0.0, 0.2, ...</td>\n",
       "      <td>[2.2, 9.8, 8.3, 22.2, 44.8, 171.2, 40.3, 16.6,...</td>\n",
       "      <td>[0.0, 0.0, 0.0, 0.0, 0.3, 0.2, 0.2, 1.4, 0.6, ...</td>\n",
       "      <td>[1.3, 0.0, 16.7, 0.2, 4.9, 1.5, 2.0, 1.1, 0.0,...</td>\n",
       "      <td>[0.0, 0.0, 0.1, 0.2, 0.0, 0.0, 0.0, 3.5, 20.0,...</td>\n",
       "      <td>[0.0, 0.0, 0.0, 10.5, 0.0, 0.0, 0.0, 0.0, 27.0...</td>\n",
       "      <td>[0.0, 0.0, 0.0, 0.0, 0.0, 0.0, 0.0, 0.0, 0.0, ...</td>\n",
       "      <td>[1.8, 2.2, 1.5, 0.1, 11.2, 16.2, 17.1, 8.2, 9....</td>\n",
       "      <td>[10.1, 0.1, 0.8, 11.4, 27.0, 0.5, 0.0, 0.2, 3....</td>\n",
       "    </tr>\n",
       "    <tr>\n",
       "      <th>Rain sum</th>\n",
       "      <td>[4.0, 0.2, 3.2, 0.9, 0.1, 1.2, 5.0, 1.8, 0.3, ...</td>\n",
       "      <td>[0.0, 0.0, 0.0, 0.0, 0.0, 0.0, 0.0, 0.0, 0.0, ...</td>\n",
       "      <td>[0.0, 0.0, 0.1, 1.5, 2.7, 0.0, 0.1, 0.0, 0.2, ...</td>\n",
       "      <td>[2.2, 9.8, 8.3, 22.2, 44.8, 171.2, 40.3, 16.6,...</td>\n",
       "      <td>[0.0, 0.0, 0.0, 0.0, 0.3, 0.2, 0.0, 0.0, 0.6, ...</td>\n",
       "      <td>[1.3, 0.0, 16.7, 0.2, 4.9, 1.5, 2.0, 1.1, 0.0,...</td>\n",
       "      <td>[0.0, 0.0, 0.1, 0.2, 0.0, 0.0, 0.0, 3.5, 20.0,...</td>\n",
       "      <td>[0.0, 0.0, 0.0, 10.5, 0.0, 0.0, 0.0, 0.0, 27.0...</td>\n",
       "      <td>[0.0, 0.0, 0.0, 0.0, 0.0, 0.0, 0.0, 0.0, 0.0, ...</td>\n",
       "      <td>[1.8, 2.2, 1.5, 0.1, 11.2, 16.2, 17.1, 8.2, 9....</td>\n",
       "      <td>[10.1, 0.1, 0.8, 11.4, 27.0, 0.5, 0.0, 0.2, 3....</td>\n",
       "    </tr>\n",
       "    <tr>\n",
       "      <th>Shower sum</th>\n",
       "      <td>[0.0, 0.0, 0.0, 0.0, 0.0, 0.0, 0.0, 0.0, 0.0, ...</td>\n",
       "      <td>[0.0, 0.0, 0.0, 0.0, 0.0, 0.0, 0.0, 0.0, 0.0, ...</td>\n",
       "      <td>[0.0, 0.0, 0.0, 0.0, 0.0, 0.0, 0.0, 0.0, 0.0, ...</td>\n",
       "      <td>[0.0, 0.0, 0.0, 0.0, 0.0, 0.0, 0.0, 0.0, 0.0, ...</td>\n",
       "      <td>[0.0, 0.0, 0.0, 0.0, 0.0, 0.0, 0.0, 0.0, 0.0, ...</td>\n",
       "      <td>[0.0, 0.0, 0.0, 0.0, 0.0, 0.0, 0.0, 0.0, 0.0, ...</td>\n",
       "      <td>[0.0, 0.0, 0.0, 0.0, 0.0, 0.0, 0.0, 0.0, 0.0, ...</td>\n",
       "      <td>[0.0, 0.0, 0.0, 0.0, 0.0, 0.0, 0.0, 0.0, 0.0, ...</td>\n",
       "      <td>[0.0, 0.0, 0.0, 0.0, 0.0, 0.0, 0.0, 0.0, 0.0, ...</td>\n",
       "      <td>[0.0, 0.0, 0.0, 0.0, 0.0, 0.0, 0.0, 0.0, 0.0, ...</td>\n",
       "      <td>[0.0, 0.0, 0.0, 0.0, 0.0, 0.0, 0.0, 0.0, 0.0, ...</td>\n",
       "    </tr>\n",
       "    <tr>\n",
       "      <th>Precipitation hours</th>\n",
       "      <td>[12.0, 2.0, 14.0, 5.0, 1.0, 3.0, 11.0, 8.0, 2....</td>\n",
       "      <td>[0.0, 0.0, 0.0, 0.0, 0.0, 0.0, 0.0, 0.0, 0.0, ...</td>\n",
       "      <td>[0.0, 0.0, 1.0, 6.0, 7.0, 0.0, 1.0, 0.0, 1.0, ...</td>\n",
       "      <td>[10.0, 17.0, 17.0, 23.0, 22.0, 24.0, 24.0, 23....</td>\n",
       "      <td>[0.0, 0.0, 0.0, 0.0, 2.0, 2.0, 2.0, 13.0, 6.0,...</td>\n",
       "      <td>[5.0, 0.0, 18.0, 1.0, 7.0, 3.0, 6.0, 1.0, 0.0,...</td>\n",
       "      <td>[0.0, 0.0, 1.0, 2.0, 0.0, 0.0, 0.0, 12.0, 24.0...</td>\n",
       "      <td>[0.0, 0.0, 0.0, 22.0, 0.0, 0.0, 0.0, 0.0, 15.0...</td>\n",
       "      <td>[0.0, 0.0, 0.0, 0.0, 0.0, 0.0, 0.0, 0.0, 0.0, ...</td>\n",
       "      <td>[8.0, 9.0, 8.0, 1.0, 9.0, 12.0, 14.0, 9.0, 9.0...</td>\n",
       "      <td>[8.0, 1.0, 4.0, 10.0, 22.0, 2.0, 0.0, 2.0, 4.0...</td>\n",
       "    </tr>\n",
       "  </tbody>\n",
       "</table>\n",
       "</div>"
      ],
      "text/plain": [
       "                                                                London  \\\n",
       "Date                 [2023-01-01, 2023-01-02, 2023-01-03, 2023-01-0...   \n",
       "Weather code         [53, 51, 53, 51, 51, 53, 55, 53, 51, 61, 61, 5...   \n",
       "Precipitation sum    [4.0, 0.2, 3.2, 0.9, 0.1, 1.2, 5.0, 1.8, 0.3, ...   \n",
       "Rain sum             [4.0, 0.2, 3.2, 0.9, 0.1, 1.2, 5.0, 1.8, 0.3, ...   \n",
       "Shower sum           [0.0, 0.0, 0.0, 0.0, 0.0, 0.0, 0.0, 0.0, 0.0, ...   \n",
       "Precipitation hours  [12.0, 2.0, 14.0, 5.0, 1.0, 3.0, 11.0, 8.0, 2....   \n",
       "\n",
       "                                                            Porto Novo  \\\n",
       "Date                 [2023-01-01, 2023-01-02, 2023-01-03, 2023-01-0...   \n",
       "Weather code         [2, 2, 1, 3, 3, 3, 1, 1, 1, 1, 2, 3, 2, 1, 1, ...   \n",
       "Precipitation sum    [0.0, 0.0, 0.0, 0.0, 0.0, 0.0, 0.0, 0.0, 0.0, ...   \n",
       "Rain sum             [0.0, 0.0, 0.0, 0.0, 0.0, 0.0, 0.0, 0.0, 0.0, ...   \n",
       "Shower sum           [0.0, 0.0, 0.0, 0.0, 0.0, 0.0, 0.0, 0.0, 0.0, ...   \n",
       "Precipitation hours  [0.0, 0.0, 0.0, 0.0, 0.0, 0.0, 0.0, 0.0, 0.0, ...   \n",
       "\n",
       "                                                                Kigali  \\\n",
       "Date                 [2023-01-01, 2023-01-02, 2023-01-03, 2023-01-0...   \n",
       "Weather code         [2, 2, 51, 51, 61, 2, 51, 3, 51, 63, 63, 63, 5...   \n",
       "Precipitation sum    [0.0, 0.0, 0.1, 1.5, 2.7, 0.0, 0.1, 0.0, 0.2, ...   \n",
       "Rain sum             [0.0, 0.0, 0.1, 1.5, 2.7, 0.0, 0.1, 0.0, 0.2, ...   \n",
       "Shower sum           [0.0, 0.0, 0.0, 0.0, 0.0, 0.0, 0.0, 0.0, 0.0, ...   \n",
       "Precipitation hours  [0.0, 0.0, 1.0, 6.0, 7.0, 0.0, 1.0, 0.0, 1.0, ...   \n",
       "\n",
       "                                                                  Apia  \\\n",
       "Date                 [2023-01-01, 2023-01-02, 2023-01-03, 2023-01-0...   \n",
       "Weather code         [53, 61, 63, 63, 65, 65, 63, 63, 63, 55, 2, 61...   \n",
       "Precipitation sum    [2.2, 9.8, 8.3, 22.2, 44.8, 171.2, 40.3, 16.6,...   \n",
       "Rain sum             [2.2, 9.8, 8.3, 22.2, 44.8, 171.2, 40.3, 16.6,...   \n",
       "Shower sum           [0.0, 0.0, 0.0, 0.0, 0.0, 0.0, 0.0, 0.0, 0.0, ...   \n",
       "Precipitation hours  [10.0, 17.0, 17.0, 23.0, 22.0, 24.0, 24.0, 23....   \n",
       "\n",
       "                                                              Tiraspol  \\\n",
       "Date                 [2023-01-01, 2023-01-02, 2023-01-03, 2023-01-0...   \n",
       "Weather code         [1, 0, 3, 3, 51, 51, 71, 71, 51, 51, 3, 71, 3,...   \n",
       "Precipitation sum    [0.0, 0.0, 0.0, 0.0, 0.3, 0.2, 0.2, 1.4, 0.6, ...   \n",
       "Rain sum             [0.0, 0.0, 0.0, 0.0, 0.3, 0.2, 0.0, 0.0, 0.6, ...   \n",
       "Shower sum           [0.0, 0.0, 0.0, 0.0, 0.0, 0.0, 0.0, 0.0, 0.0, ...   \n",
       "Precipitation hours  [0.0, 0.0, 0.0, 0.0, 2.0, 2.0, 2.0, 13.0, 6.0,...   \n",
       "\n",
       "                                                                Dublin  \\\n",
       "Date                 [2023-01-01, 2023-01-02, 2023-01-03, 2023-01-0...   \n",
       "Weather code         [53, 3, 63, 51, 61, 53, 53, 55, 3, 63, 73, 53,...   \n",
       "Precipitation sum    [1.3, 0.0, 16.7, 0.2, 4.9, 1.5, 2.0, 1.1, 0.0,...   \n",
       "Rain sum             [1.3, 0.0, 16.7, 0.2, 4.9, 1.5, 2.0, 1.1, 0.0,...   \n",
       "Shower sum           [0.0, 0.0, 0.0, 0.0, 0.0, 0.0, 0.0, 0.0, 0.0, ...   \n",
       "Precipitation hours  [5.0, 0.0, 18.0, 1.0, 7.0, 3.0, 6.0, 1.0, 0.0,...   \n",
       "\n",
       "                                                             Ljubljana  \\\n",
       "Date                 [2023-01-01, 2023-01-02, 2023-01-03, 2023-01-0...   \n",
       "Weather code         [3, 3, 51, 51, 3, 3, 3, 55, 63, 51, 3, 51, 61,...   \n",
       "Precipitation sum    [0.0, 0.0, 0.1, 0.2, 0.0, 0.0, 0.0, 3.5, 20.0,...   \n",
       "Rain sum             [0.0, 0.0, 0.1, 0.2, 0.0, 0.0, 0.0, 3.5, 20.0,...   \n",
       "Shower sum           [0.0, 0.0, 0.0, 0.0, 0.0, 0.0, 0.0, 0.0, 0.0, ...   \n",
       "Precipitation hours  [0.0, 0.0, 1.0, 2.0, 0.0, 0.0, 0.0, 12.0, 24.0...   \n",
       "\n",
       "                                                           Kuwait City  \\\n",
       "Date                 [2023-01-01, 2023-01-02, 2023-01-03, 2023-01-0...   \n",
       "Weather code         [1, 3, 3, 61, 3, 0, 0, 2, 63, 51, 0, 0, 53, 61...   \n",
       "Precipitation sum    [0.0, 0.0, 0.0, 10.5, 0.0, 0.0, 0.0, 0.0, 27.0...   \n",
       "Rain sum             [0.0, 0.0, 0.0, 10.5, 0.0, 0.0, 0.0, 0.0, 27.0...   \n",
       "Shower sum           [0.0, 0.0, 0.0, 0.0, 0.0, 0.0, 0.0, 0.0, 0.0, ...   \n",
       "Precipitation hours  [0.0, 0.0, 0.0, 22.0, 0.0, 0.0, 0.0, 0.0, 15.0...   \n",
       "\n",
       "                                                               Bangkok  \\\n",
       "Date                 [2023-01-01, 2023-01-02, 2023-01-03, 2023-01-0...   \n",
       "Weather code         [1, 2, 3, 3, 1, 3, 3, 3, 3, 63, 51, 51, 51, 51...   \n",
       "Precipitation sum    [0.0, 0.0, 0.0, 0.0, 0.0, 0.0, 0.0, 0.0, 0.0, ...   \n",
       "Rain sum             [0.0, 0.0, 0.0, 0.0, 0.0, 0.0, 0.0, 0.0, 0.0, ...   \n",
       "Shower sum           [0.0, 0.0, 0.0, 0.0, 0.0, 0.0, 0.0, 0.0, 0.0, ...   \n",
       "Precipitation hours  [0.0, 0.0, 0.0, 0.0, 0.0, 0.0, 0.0, 0.0, 0.0, ...   \n",
       "\n",
       "                                                         Santo Domingo  \\\n",
       "Date                 [2023-01-01, 2023-01-02, 2023-01-03, 2023-01-0...   \n",
       "Weather code         [51, 53, 51, 51, 63, 63, 65, 63, 63, 63, 61, 5...   \n",
       "Precipitation sum    [1.8, 2.2, 1.5, 0.1, 11.2, 16.2, 17.1, 8.2, 9....   \n",
       "Rain sum             [1.8, 2.2, 1.5, 0.1, 11.2, 16.2, 17.1, 8.2, 9....   \n",
       "Shower sum           [0.0, 0.0, 0.0, 0.0, 0.0, 0.0, 0.0, 0.0, 0.0, ...   \n",
       "Precipitation hours  [8.0, 9.0, 8.0, 1.0, 9.0, 12.0, 14.0, 9.0, 9.0...   \n",
       "\n",
       "                                                             Brasiléia  \n",
       "Date                 [2023-01-01, 2023-01-02, 2023-01-03, 2023-01-0...  \n",
       "Weather code         [63, 51, 51, 63, 63, 51, 3, 51, 61, 63, 63, 61...  \n",
       "Precipitation sum    [10.1, 0.1, 0.8, 11.4, 27.0, 0.5, 0.0, 0.2, 3....  \n",
       "Rain sum             [10.1, 0.1, 0.8, 11.4, 27.0, 0.5, 0.0, 0.2, 3....  \n",
       "Shower sum           [0.0, 0.0, 0.0, 0.0, 0.0, 0.0, 0.0, 0.0, 0.0, ...  \n",
       "Precipitation hours  [8.0, 1.0, 4.0, 10.0, 22.0, 2.0, 0.0, 2.0, 4.0...  "
      ]
     },
     "execution_count": 28,
     "metadata": {},
     "output_type": "execute_result"
    }
   ],
   "source": [
    "with open('../DataCollection/Data/all_data.json') as file:\n",
    "    data = json.load(file)\n",
    "\n",
    "df = pd.DataFrame(data)\n",
    "df"
   ]
  },
  {
   "cell_type": "markdown",
   "metadata": {},
   "source": [
    "We can now go about answering the question: ***'Is London really as rainy as the movies make it out to be?'*** by answering the following questions..."
   ]
  },
  {
   "cell_type": "markdown",
   "metadata": {},
   "source": [
    "## 2.1 Does London rain frequently?\n",
    "\n",
    "To answer this, we can explore the datat on *Weather code* - Using [WMO Weather Interpretation Codes Guide](https://open-meteo.com/en/docs), we can see that:\n",
    "\n",
    "\n",
    "| Code | Description |\n",
    "| -------- | ------- |\n",
    "| 0  | Clear Sky |\n",
    "| 1, 2, 3 | Mainly clear, partly cloudy, and overcast |\n",
    "| 45, 48    | Fog and depositing rime fog |\n",
    "| 51, 53, 55    | Drizzle: Light, moderate, and dense intensity |\n",
    "| 56, 57    | Freezing Drizzle: Light and dense intensity |\n",
    "| 61, 63, 65    | Rain: Slight, moderate and heavy intensity |\n",
    "| 66, 67    | Freezing Rain: Light and heavy intensity |\n",
    "| 71, 73, 75    | Snow fall: Slight, moderate, and heavy intensity |\n",
    "| 77    | Snow grains |\n",
    "| 80, 81, 82    | Rain showers: Slight, moderate, and violent |\n",
    "| 85, 86    | Snow showers slight and heavy |\n",
    "| 95  *  | Thunderstorm: Slight or moderate |\n",
    "| 96  *  | Thunderstorm with slight and heavy hail |\n",
    "\n",
    "\n",
    "(*) Thunderstorm forecasts with hail is only available in central Europe \n"
   ]
  },
  {
   "cell_type": "markdown",
   "metadata": {},
   "source": [
    "Let's create a function to sort the date for weather code in London into different catogories:"
   ]
  },
  {
   "cell_type": "code",
   "execution_count": 29,
   "metadata": {},
   "outputs": [],
   "source": [
    "# Defining function to catogorise weather code\n",
    "def weather_code_sort(list: list):\n",
    "\n",
    "    # Defining different levels of rain\n",
    "    moderate_rain = [51, 53, 56, 61, 63, 66, 80, 81]\n",
    "    heavy_rain = [55, 57, 65, 67, 82, 95, 96]\n",
    "\n",
    "    # Defining weather catogories\n",
    "    rain = moderate_rain + heavy_rain\n",
    "    snow = [71, 73, 75, 77, 85, 86]\n",
    "    others = [0, 1, 2, 3, 45, 48]\n",
    "\n",
    "    # Creating empty lists to sort data into\n",
    "    moderate_rain_data = []\n",
    "    heavy_rain_data = []\n",
    "    snow_data = []\n",
    "    others_data = []\n",
    "\n",
    "    for i in list:\n",
    "        if i in moderate_rain:\n",
    "            moderate_rain_data.append(i)\n",
    "        if i in heavy_rain:\n",
    "            heavy_rain_data.append(i)\n",
    "        if i in snow:\n",
    "            snow_data.append(i)\n",
    "        if i in others:\n",
    "            others_data.append(i)\n",
    "        else:\n",
    "            pass\n",
    "\n",
    "    rain_data = moderate_rain_data + heavy_rain_data\n",
    "    \n",
    "    # Finally, creating a dictionary to sort the data count into\n",
    "    dict = {\n",
    "        'Light to Moderate Rain': len(moderate_rain_data),\n",
    "        'Heavy Rain': len(heavy_rain_data),\n",
    "        'Snow': len(snow_data),\n",
    "        'Total Rain': len(rain_data),\n",
    "        'Others': len(others_data)\n",
    "    }\n",
    "    \n",
    "    return dict"
   ]
  },
  {
   "cell_type": "markdown",
   "metadata": {},
   "source": [
    "We can now use this function to apply to our data frame:"
   ]
  },
  {
   "cell_type": "code",
   "execution_count": 30,
   "metadata": {},
   "outputs": [
    {
     "data": {
      "text/plain": [
       "{'Light to Moderate Rain': 204,\n",
       " 'Heavy Rain': 19,\n",
       " 'Snow': 6,\n",
       " 'Total Rain': 223,\n",
       " 'Others': 137}"
      ]
     },
     "execution_count": 30,
     "metadata": {},
     "output_type": "execute_result"
    }
   ],
   "source": [
    "weather_code_sort(df['London']['Weather code'])"
   ]
  },
  {
   "cell_type": "markdown",
   "metadata": {},
   "source": [
    "Applying this function to all countries, we can construct a sub data frame for analysis and visualisation:"
   ]
  },
  {
   "cell_type": "code",
   "execution_count": 31,
   "metadata": {},
   "outputs": [
    {
     "data": {
      "text/html": [
       "<div>\n",
       "<style scoped>\n",
       "    .dataframe tbody tr th:only-of-type {\n",
       "        vertical-align: middle;\n",
       "    }\n",
       "\n",
       "    .dataframe tbody tr th {\n",
       "        vertical-align: top;\n",
       "    }\n",
       "\n",
       "    .dataframe thead th {\n",
       "        text-align: right;\n",
       "    }\n",
       "</style>\n",
       "<table border=\"1\" class=\"dataframe\">\n",
       "  <thead>\n",
       "    <tr style=\"text-align: right;\">\n",
       "      <th></th>\n",
       "      <th>Light to Moderate Rain</th>\n",
       "      <th>Heavy Rain</th>\n",
       "      <th>Snow</th>\n",
       "      <th>Total Rain</th>\n",
       "      <th>Others</th>\n",
       "    </tr>\n",
       "  </thead>\n",
       "  <tbody>\n",
       "    <tr>\n",
       "      <th>London</th>\n",
       "      <td>204</td>\n",
       "      <td>19</td>\n",
       "      <td>6</td>\n",
       "      <td>223</td>\n",
       "      <td>137</td>\n",
       "    </tr>\n",
       "    <tr>\n",
       "      <th>Porto Novo</th>\n",
       "      <td>62</td>\n",
       "      <td>0</td>\n",
       "      <td>0</td>\n",
       "      <td>62</td>\n",
       "      <td>304</td>\n",
       "    </tr>\n",
       "    <tr>\n",
       "      <th>Kigali</th>\n",
       "      <td>223</td>\n",
       "      <td>28</td>\n",
       "      <td>0</td>\n",
       "      <td>251</td>\n",
       "      <td>115</td>\n",
       "    </tr>\n",
       "    <tr>\n",
       "      <th>Apia</th>\n",
       "      <td>304</td>\n",
       "      <td>30</td>\n",
       "      <td>0</td>\n",
       "      <td>334</td>\n",
       "      <td>32</td>\n",
       "    </tr>\n",
       "    <tr>\n",
       "      <th>Tiraspol</th>\n",
       "      <td>123</td>\n",
       "      <td>14</td>\n",
       "      <td>19</td>\n",
       "      <td>137</td>\n",
       "      <td>210</td>\n",
       "    </tr>\n",
       "    <tr>\n",
       "      <th>Dublin</th>\n",
       "      <td>255</td>\n",
       "      <td>15</td>\n",
       "      <td>11</td>\n",
       "      <td>270</td>\n",
       "      <td>85</td>\n",
       "    </tr>\n",
       "    <tr>\n",
       "      <th>Ljubljana</th>\n",
       "      <td>159</td>\n",
       "      <td>21</td>\n",
       "      <td>24</td>\n",
       "      <td>180</td>\n",
       "      <td>162</td>\n",
       "    </tr>\n",
       "    <tr>\n",
       "      <th>Kuwait City</th>\n",
       "      <td>37</td>\n",
       "      <td>5</td>\n",
       "      <td>0</td>\n",
       "      <td>42</td>\n",
       "      <td>324</td>\n",
       "    </tr>\n",
       "    <tr>\n",
       "      <th>Bangkok</th>\n",
       "      <td>224</td>\n",
       "      <td>36</td>\n",
       "      <td>0</td>\n",
       "      <td>260</td>\n",
       "      <td>106</td>\n",
       "    </tr>\n",
       "    <tr>\n",
       "      <th>Santo Domingo</th>\n",
       "      <td>304</td>\n",
       "      <td>44</td>\n",
       "      <td>0</td>\n",
       "      <td>348</td>\n",
       "      <td>18</td>\n",
       "    </tr>\n",
       "    <tr>\n",
       "      <th>Brasiléia</th>\n",
       "      <td>250</td>\n",
       "      <td>31</td>\n",
       "      <td>0</td>\n",
       "      <td>281</td>\n",
       "      <td>85</td>\n",
       "    </tr>\n",
       "  </tbody>\n",
       "</table>\n",
       "</div>"
      ],
      "text/plain": [
       "               Light to Moderate Rain  Heavy Rain  Snow  Total Rain  Others\n",
       "London                            204          19     6         223     137\n",
       "Porto Novo                         62           0     0          62     304\n",
       "Kigali                            223          28     0         251     115\n",
       "Apia                              304          30     0         334      32\n",
       "Tiraspol                          123          14    19         137     210\n",
       "Dublin                            255          15    11         270      85\n",
       "Ljubljana                         159          21    24         180     162\n",
       "Kuwait City                        37           5     0          42     324\n",
       "Bangkok                           224          36     0         260     106\n",
       "Santo Domingo                     304          44     0         348      18\n",
       "Brasiléia                         250          31     0         281      85"
      ]
     },
     "execution_count": 31,
     "metadata": {},
     "output_type": "execute_result"
    }
   ],
   "source": [
    "# Applying to this function to all entries in the 'Weather code' row of the data frame\n",
    "WC = df.loc['Weather code'].apply(weather_code_sort)\n",
    "\n",
    "# Constructing sub data frame with appropriate columns and rows\n",
    "dfWC = pd.DataFrame(WC.tolist(), index=WC.index)\n",
    "dfWC\n"
   ]
  },
  {
   "cell_type": "markdown",
   "metadata": {},
   "source": [
    "We can visualise this data to give us a better understanding, e.g., London's porportion of yearly proportion of rain can be visualised suitably using a pie chart:"
   ]
  },
  {
   "cell_type": "markdown",
   "metadata": {},
   "source": [
    "It's clear to see that rain is indeed the most common weather type in London! We can also show this with code, and show the exact proportion:"
   ]
  },
  {
   "cell_type": "code",
   "execution_count": 32,
   "metadata": {},
   "outputs": [
    {
     "name": "stdout",
     "output_type": "stream",
     "text": [
      "The column with the highest value in London is 'Total Rain'.\n",
      "The proportion of Total Rain is  37.86% in London.\n"
     ]
    }
   ],
   "source": [
    "wc_max_london = dfWC.loc['London'].idxmax()\n",
    "print(f\"The column with the highest value in London is '{wc_max_london}'.\")\n",
    "\n",
    "ld_rain_percent = (dfWC.loc[['London'], ['Total Rain']] / dfWC.loc['London'].sum() * 100).iloc[0,0]\n",
    "\n",
    "print(f\"The proportion of {wc_max_london} is {ld_rain_percent: .2f}% in London.\")\n"
   ]
  },
  {
   "cell_type": "markdown",
   "metadata": {},
   "source": [
    "**But how does London compare against all the cities sampled?**\n",
    "\n",
    "Adjusting what our previous code:"
   ]
  },
  {
   "cell_type": "code",
   "execution_count": 33,
   "metadata": {},
   "outputs": [
    {
     "name": "stdout",
     "output_type": "stream",
     "text": [
      "There are 7 other RAINY cities in the sample!\n"
     ]
    }
   ],
   "source": [
    "wc_max = dfWC.idxmax(axis=1)\n",
    "\n",
    "rainy_cities = []\n",
    "for city, max_column in wc_max.items():\n",
    "    if max_column == 'Total Rain'and city != 'London':\n",
    "        rainy_cities.append(city)\n",
    "    \n",
    "print(f\"There are {len(rainy_cities)} other RAINY cities in the sample!\") "
   ]
  },
  {
   "cell_type": "markdown",
   "metadata": {},
   "source": [
    "*Was London the rainiest of them all?*"
   ]
  },
  {
   "cell_type": "code",
   "execution_count": 34,
   "metadata": {},
   "outputs": [
    {
     "name": "stdout",
     "output_type": "stream",
     "text": [
      "The rainiest city was in fact Santo Domingo!\n",
      "Santo Domingo rained for 95.08% of the time!\n"
     ]
    }
   ],
   "source": [
    "# Let's create a function to make this process easily repeatable in case of repeat trials \n",
    "\n",
    "def check_rainiest(dataframe):\n",
    "    rainiest_city = dfWC.loc[:,['Total Rain']].idxmax().loc['Total Rain']\n",
    "\n",
    "    rainiest_percent = (dfWC.loc[:,['Total Rain']].max() / 366 * 100)\n",
    "\n",
    "    if rainiest_city == 'London':\n",
    "        print(f\"Yup, the rainiest city was London!\")\n",
    "    else:\n",
    "        print(f\"The rainiest city was in fact {rainiest_city}!\")\n",
    "\n",
    "        print(f\"{rainiest_city} rained for {rainiest_percent.iloc[0]:.2f}% of the time!\")\n",
    "\n",
    "check_rainiest(dfWC)"
   ]
  },
  {
   "cell_type": "markdown",
   "metadata": {},
   "source": [
    "If we were to rank them, where would London be?"
   ]
  },
  {
   "cell_type": "code",
   "execution_count": 35,
   "metadata": {},
   "outputs": [
    {
     "name": "stdout",
     "output_type": "stream",
     "text": [
      "Out of all the cities, London was 7th overall!\n"
     ]
    },
    {
     "name": "stderr",
     "output_type": "stream",
     "text": [
      "C:\\Users\\xujos\\AppData\\Local\\Temp\\ipykernel_16648\\3882077279.py:4: FutureWarning: Calling int on a single element Series is deprecated and will raise a TypeError in the future. Use int(ser.iloc[0]) instead\n",
      "  print(f\"Out of all the cities, London was {int(dfWC.loc[['London'], ['Rain Rank']].iloc[0])}th overall!\")\n"
     ]
    }
   ],
   "source": [
    "dfWC['Rain Rank'] = dfWC['Total Rain'].rank(ascending=False)\n",
    "\n",
    "\n",
    "print(f\"Out of all the cities, London was {int(dfWC.loc[['London'], ['Rain Rank']].iloc[0])}th overall!\")"
   ]
  },
  {
   "cell_type": "markdown",
   "metadata": {},
   "source": [
    "Given the sample cities, it is clear that London **does not** rain that frequently in comparison!"
   ]
  },
  {
   "cell_type": "markdown",
   "metadata": {},
   "source": [
    "## 2.1* Moderate vs Heavy Rain"
   ]
  },
  {
   "cell_type": "markdown",
   "metadata": {},
   "source": [
    "Given the sub categories of rain types we have, we can use also see how frequently London *REALLY RAINS*."
   ]
  },
  {
   "cell_type": "code",
   "execution_count": 36,
   "metadata": {},
   "outputs": [
    {
     "name": "stdout",
     "output_type": "stream",
     "text": [
      "Out of the 223 days that London rained, 19 of those were RAINY.\n"
     ]
    },
    {
     "name": "stderr",
     "output_type": "stream",
     "text": [
      "C:\\Users\\xujos\\AppData\\Local\\Temp\\ipykernel_16648\\2056860094.py:1: FutureWarning: Calling int on a single element Series is deprecated and will raise a TypeError in the future. Use int(ser.iloc[0]) instead\n",
      "  print(f\"Out of the {int(dfWC.loc[['London'], ['Total Rain']].iloc[0])} days that London rained, {int(dfWC.loc[['London'], ['Heavy Rain']].iloc[0])} of those were RAINY.\")\n",
      "C:\\Users\\xujos\\AppData\\Local\\Temp\\ipykernel_16648\\2056860094.py:1: FutureWarning: Calling int on a single element Series is deprecated and will raise a TypeError in the future. Use int(ser.iloc[0]) instead\n",
      "  print(f\"Out of the {int(dfWC.loc[['London'], ['Total Rain']].iloc[0])} days that London rained, {int(dfWC.loc[['London'], ['Heavy Rain']].iloc[0])} of those were RAINY.\")\n"
     ]
    }
   ],
   "source": [
    "print(f\"Out of the {int(dfWC.loc[['London'], ['Total Rain']].iloc[0])} days that London rained, {int(dfWC.loc[['London'], ['Heavy Rain']].iloc[0])} of those were RAINY.\")"
   ]
  }
 ],
 "metadata": {
  "kernelspec": {
   "display_name": "base",
   "language": "python",
   "name": "python3"
  },
  "language_info": {
   "codemirror_mode": {
    "name": "ipython",
    "version": 3
   },
   "file_extension": ".py",
   "mimetype": "text/x-python",
   "name": "python",
   "nbconvert_exporter": "python",
   "pygments_lexer": "ipython3",
   "version": "3.12.4"
  }
 },
 "nbformat": 4,
 "nbformat_minor": 2
}
