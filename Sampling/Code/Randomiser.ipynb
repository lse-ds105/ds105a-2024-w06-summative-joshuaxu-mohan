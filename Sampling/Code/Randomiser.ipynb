{
 "cells": [
  {
   "cell_type": "markdown",
   "metadata": {},
   "source": [
    "**OBJECTIVE:** Randomly sample 10 other *capital* cities to compare London's weater data against\n",
    "\n",
    "**AUTHOR:** Joshua Xu\n",
    "\n",
    "**LAST EDITED:** 2024-10-25\n",
    "\n",
    "---\n"
   ]
  },
  {
   "cell_type": "markdown",
   "metadata": {},
   "source": [
    "# Randomiser\n",
    "\n",
    "In this notebook, I will be coding a randomiser to randomly capital cities from the world, and using to choose which cities I will be comparing the London data against.\n",
    "\n",
    "The csv file of capital cities of the world was sourced from **[here](https://github.com/icyrockcom/country-capitals/blob/master/data/country-list.csv)**."
   ]
  },
  {
   "cell_type": "markdown",
   "metadata": {},
   "source": [
    "## 1. Organising data"
   ]
  },
  {
   "cell_type": "markdown",
   "metadata": {},
   "source": [
    "We import the modules needed for the code:"
   ]
  },
  {
   "cell_type": "code",
   "execution_count": 8,
   "metadata": {},
   "outputs": [],
   "source": [
    "import random"
   ]
  },
  {
   "cell_type": "markdown",
   "metadata": {},
   "source": [
    "We begin by reorganising the data into a more accessible structure, i.e., a nested dictionary:"
   ]
  },
  {
   "cell_type": "code",
   "execution_count": 9,
   "metadata": {},
   "outputs": [],
   "source": [
    "# Opening csv file\n",
    "with open(\"../Data/CapitalCitiesList.csv\") as file:\n",
    "\n",
    "# Splitting list into via line breaks\n",
    "    lines = file.read().split('\\n')\n",
    "\n",
    "# Splitting eahc line to elements to be sorted into a list of dictionary\n",
    "    dict_list = []\n",
    "\n",
    "    for line in lines[1:]: # ignoring the column names\n",
    "        line_elements = line.split(',')\n",
    "        if len(line_elements) != 3: # adjust for errors arising from empty lines\n",
    "            pass\n",
    "        else:\n",
    "            dict = {\n",
    "                'Country': line_elements[0],\n",
    "                'Capital': line_elements[1]\n",
    "            }\n",
    "            dict_list.append(dict)"
   ]
  },
  {
   "cell_type": "markdown",
   "metadata": {},
   "source": [
    "We now have a dictionary that can be easily indexed for sampling purposes:"
   ]
  },
  {
   "cell_type": "code",
   "execution_count": 10,
   "metadata": {},
   "outputs": [
    {
     "data": {
      "text/plain": [
       "[{'Country': '\"Abkhazia\"', 'Capital': '\"Sukhumi\"'},\n",
       " {'Country': '\"Afghanistan\"', 'Capital': '\"Kabul\"'},\n",
       " {'Country': '\"Akrotiri and Dhekelia\"', 'Capital': '\"Episkopi Cantonment\"'},\n",
       " {'Country': '\"Albania\"', 'Capital': '\"Tirana\"'},\n",
       " {'Country': '\"Algeria\"', 'Capital': '\"Algiers\"'}]"
      ]
     },
     "execution_count": 10,
     "metadata": {},
     "output_type": "execute_result"
    }
   ],
   "source": [
    "dict_list[0:5]"
   ]
  },
  {
   "cell_type": "markdown",
   "metadata": {},
   "source": [
    "# 2. Randomising"
   ]
  },
  {
   "cell_type": "markdown",
   "metadata": {},
   "source": [
    "We can now select randomly from the list:"
   ]
  },
  {
   "cell_type": "code",
   "execution_count": 11,
   "metadata": {},
   "outputs": [
    {
     "data": {
      "text/plain": [
       "{'Country': '\"Spain\"', 'Capital': '\"Madrid\"'}"
      ]
     },
     "execution_count": 11,
     "metadata": {},
     "output_type": "execute_result"
    }
   ],
   "source": [
    "city = random.choice(dict_list)\n",
    "city"
   ]
  },
  {
   "cell_type": "markdown",
   "metadata": {},
   "source": [
    "Combining the codes, we can create a function which randomly selects an inputted number cities for the purpose of my data analysis:"
   ]
  },
  {
   "cell_type": "code",
   "execution_count": 12,
   "metadata": {},
   "outputs": [],
   "source": [
    "def randomiser(number):\n",
    "    with open(\"../Data/CapitalCitiesList.csv\") as file:\n",
    "\n",
    "        lines = file.read().split('\\n')\n",
    "\n",
    "        dict_list = []\n",
    "\n",
    "        for line in lines[1:]: \n",
    "            line_elements = line.split(',')\n",
    "            if len(line_elements) != 3: \n",
    "                pass\n",
    "            else:\n",
    "                dict = {\n",
    "                    'Country': line_elements[0],\n",
    "                    'Capital': line_elements[1]\n",
    "                }\n",
    "                dict_list.append(dict)\n",
    "\n",
    "    sample_capitals = []\n",
    "    for i in range(int(number)): # repeat the randomising for inputted number of times \n",
    "        sample_capitals.append(random.choice(dict_list))\n",
    "    \n",
    "    for capitals in sample_capitals:\n",
    "        print(capitals)"
   ]
  },
  {
   "cell_type": "markdown",
   "metadata": {},
   "source": [
    "# 3. Results"
   ]
  },
  {
   "cell_type": "markdown",
   "metadata": {},
   "source": [
    "Using the function, the 10 capital cities we will be sampling are:\n",
    "- Porto-Novo, Benin\n",
    "- Kigali, Rwanda\n",
    "- Apia, Samoa\n",
    "- Tiraspol, Transnistria\n",
    "- Dublin, Ireland\n",
    "- Ljubljana, Slovenia\n",
    "- Kuwait City, Kuwait\n",
    "- Bangkok, Thailand\n",
    "- Santo Domingo, Dominican Republic\n",
    "- Brasília, Brazil"
   ]
  },
  {
   "cell_type": "code",
   "execution_count": 13,
   "metadata": {},
   "outputs": [
    {
     "name": "stdout",
     "output_type": "stream",
     "text": [
      "{'Country': '\"Cocos (Keeling) Islands\"', 'Capital': '\"West Island\"'}\n",
      "{'Country': '\"Saint Kitts and Nevis\"', 'Capital': '\"Basseterre\"'}\n",
      "{'Country': '\"Guatemala\"', 'Capital': '\"Guatemala City\"'}\n",
      "{'Country': '\"Sri Lanka\"', 'Capital': '\"Sri Jayawardenapura Kotte\"'}\n",
      "{'Country': '\"Myanmar\"', 'Capital': '\"Naypyidaw\"'}\n",
      "{'Country': '\"Portugal\"', 'Capital': '\"Lisbon\"'}\n",
      "{'Country': '\"Barbados\"', 'Capital': '\"Bridgetown\"'}\n",
      "{'Country': '\"Latvia\"', 'Capital': '\"Riga\"'}\n",
      "{'Country': '\"Haiti\"', 'Capital': '\"Port-au-Prince\"'}\n",
      "{'Country': '\"Myanmar\"', 'Capital': '\"Naypyidaw\"'}\n"
     ]
    }
   ],
   "source": [
    "sample = randomiser(10)\n",
    "sample\n",
    "# Each time this code is ran, a different set of capital cities will be generated"
   ]
  },
  {
   "cell_type": "markdown",
   "metadata": {},
   "source": [
    "# Bonus"
   ]
  },
  {
   "cell_type": "markdown",
   "metadata": {},
   "source": [
    "Having saved the above code in a [.py file](randomiser.py), we can randomly generate the file by simply using the following code."
   ]
  },
  {
   "cell_type": "code",
   "execution_count": null,
   "metadata": {},
   "outputs": [
    {
     "name": "stdout",
     "output_type": "stream",
     "text": [
      "{'Country': '\"Guinea-Bissau\"', 'Capital': '\"Bissau\"'}\n",
      "{'Country': '\"East Timor (Timor-Leste)\"', 'Capital': '\"Dili\"'}\n",
      "{'Country': '\"Venezuela\"', 'Capital': '\"Caracas\"'}\n",
      "{'Country': '\"Swaziland\"', 'Capital': '\"Mbabane\"'}\n",
      "{'Country': '\"Guinea\"', 'Capital': '\"Conakry\"'}\n",
      "{'Country': '\"Guatemala\"', 'Capital': '\"Guatemala City\"'}\n",
      "{'Country': '\"Armenia\"', 'Capital': '\"Yerevan\"'}\n",
      "{'Country': '\"United Arab Emirates\"', 'Capital': '\"Abu Dhabi\"'}\n",
      "{'Country': '\"Sint Maarten\"', 'Capital': '\"Philipsburg\"'}\n",
      "{'Country': '\"Ethiopia\"', 'Capital': '\"Addis Ababa\"'}\n"
     ]
    }
   ],
   "source": [
    "%run randomiser.py"
   ]
  }
 ],
 "metadata": {
  "kernelspec": {
   "display_name": "base",
   "language": "python",
   "name": "python3"
  },
  "language_info": {
   "codemirror_mode": {
    "name": "ipython",
    "version": 3
   },
   "file_extension": ".py",
   "mimetype": "text/x-python",
   "name": "python",
   "nbconvert_exporter": "python",
   "pygments_lexer": "ipython3",
   "version": "3.12.4"
  }
 },
 "nbformat": 4,
 "nbformat_minor": 2
}
